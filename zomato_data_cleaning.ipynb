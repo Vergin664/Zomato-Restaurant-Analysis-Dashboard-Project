{
 "cells": [
  {
   "cell_type": "code",
   "execution_count": 1,
   "id": "045568cd-80f7-41c0-91ac-cc3360d1bc38",
   "metadata": {},
   "outputs": [],
   "source": [
    "# Import Librarie\n",
    "\n",
    "import pandas as pd"
   ]
  },
  {
   "cell_type": "code",
   "execution_count": 2,
   "id": "f452c6e2-360d-44b9-8283-132c63256d79",
   "metadata": {},
   "outputs": [
    {
     "data": {
      "text/html": [
       "<div>\n",
       "<style scoped>\n",
       "    .dataframe tbody tr th:only-of-type {\n",
       "        vertical-align: middle;\n",
       "    }\n",
       "\n",
       "    .dataframe tbody tr th {\n",
       "        vertical-align: top;\n",
       "    }\n",
       "\n",
       "    .dataframe thead th {\n",
       "        text-align: right;\n",
       "    }\n",
       "</style>\n",
       "<table border=\"1\" class=\"dataframe\">\n",
       "  <thead>\n",
       "    <tr style=\"text-align: right;\">\n",
       "      <th></th>\n",
       "      <th>Unnamed: 0.1</th>\n",
       "      <th>Unnamed: 0</th>\n",
       "      <th>restaurant name</th>\n",
       "      <th>restaurant type</th>\n",
       "      <th>rate (out of 5)</th>\n",
       "      <th>num of ratings</th>\n",
       "      <th>avg cost (two people)</th>\n",
       "      <th>online_order</th>\n",
       "      <th>table booking</th>\n",
       "      <th>cuisines type</th>\n",
       "      <th>area</th>\n",
       "      <th>local address</th>\n",
       "    </tr>\n",
       "  </thead>\n",
       "  <tbody>\n",
       "    <tr>\n",
       "      <th>0</th>\n",
       "      <td>0</td>\n",
       "      <td>0</td>\n",
       "      <td>#FeelTheROLL</td>\n",
       "      <td>Quick Bites</td>\n",
       "      <td>3.4</td>\n",
       "      <td>7</td>\n",
       "      <td>200.0</td>\n",
       "      <td>No</td>\n",
       "      <td>No</td>\n",
       "      <td>Fast Food</td>\n",
       "      <td>Bellandur</td>\n",
       "      <td>Bellandur</td>\n",
       "    </tr>\n",
       "    <tr>\n",
       "      <th>1</th>\n",
       "      <td>1</td>\n",
       "      <td>1</td>\n",
       "      <td>#L-81 Cafe</td>\n",
       "      <td>Quick Bites</td>\n",
       "      <td>3.9</td>\n",
       "      <td>48</td>\n",
       "      <td>400.0</td>\n",
       "      <td>Yes</td>\n",
       "      <td>No</td>\n",
       "      <td>Fast Food, Beverages</td>\n",
       "      <td>Byresandra,Tavarekere,Madiwala</td>\n",
       "      <td>HSR</td>\n",
       "    </tr>\n",
       "    <tr>\n",
       "      <th>2</th>\n",
       "      <td>2</td>\n",
       "      <td>2</td>\n",
       "      <td>#refuel</td>\n",
       "      <td>Cafe</td>\n",
       "      <td>3.7</td>\n",
       "      <td>37</td>\n",
       "      <td>400.0</td>\n",
       "      <td>Yes</td>\n",
       "      <td>No</td>\n",
       "      <td>Cafe, Beverages</td>\n",
       "      <td>Bannerghatta Road</td>\n",
       "      <td>Bannerghatta Road</td>\n",
       "    </tr>\n",
       "    <tr>\n",
       "      <th>3</th>\n",
       "      <td>3</td>\n",
       "      <td>3</td>\n",
       "      <td>'@ Biryani Central</td>\n",
       "      <td>Casual Dining</td>\n",
       "      <td>2.7</td>\n",
       "      <td>135</td>\n",
       "      <td>550.0</td>\n",
       "      <td>Yes</td>\n",
       "      <td>No</td>\n",
       "      <td>Biryani, Mughlai, Chinese</td>\n",
       "      <td>Marathahalli</td>\n",
       "      <td>Marathahalli</td>\n",
       "    </tr>\n",
       "    <tr>\n",
       "      <th>4</th>\n",
       "      <td>4</td>\n",
       "      <td>4</td>\n",
       "      <td>'@ The Bbq</td>\n",
       "      <td>Casual Dining</td>\n",
       "      <td>2.8</td>\n",
       "      <td>40</td>\n",
       "      <td>700.0</td>\n",
       "      <td>Yes</td>\n",
       "      <td>No</td>\n",
       "      <td>BBQ, Continental, North Indian, Chinese, Bever...</td>\n",
       "      <td>Bellandur</td>\n",
       "      <td>Bellandur</td>\n",
       "    </tr>\n",
       "  </tbody>\n",
       "</table>\n",
       "</div>"
      ],
      "text/plain": [
       "   Unnamed: 0.1  Unnamed: 0     restaurant name restaurant type  \\\n",
       "0             0           0        #FeelTheROLL     Quick Bites   \n",
       "1             1           1          #L-81 Cafe     Quick Bites   \n",
       "2             2           2             #refuel            Cafe   \n",
       "3             3           3  '@ Biryani Central   Casual Dining   \n",
       "4             4           4          '@ The Bbq   Casual Dining   \n",
       "\n",
       "   rate (out of 5)  num of ratings  avg cost (two people) online_order  \\\n",
       "0              3.4               7                  200.0           No   \n",
       "1              3.9              48                  400.0          Yes   \n",
       "2              3.7              37                  400.0          Yes   \n",
       "3              2.7             135                  550.0          Yes   \n",
       "4              2.8              40                  700.0          Yes   \n",
       "\n",
       "  table booking                                      cuisines type  \\\n",
       "0            No                                          Fast Food   \n",
       "1            No                               Fast Food, Beverages   \n",
       "2            No                                    Cafe, Beverages   \n",
       "3            No                          Biryani, Mughlai, Chinese   \n",
       "4            No  BBQ, Continental, North Indian, Chinese, Bever...   \n",
       "\n",
       "                             area      local address  \n",
       "0                       Bellandur          Bellandur  \n",
       "1  Byresandra,Tavarekere,Madiwala                HSR  \n",
       "2               Bannerghatta Road  Bannerghatta Road  \n",
       "3                    Marathahalli       Marathahalli  \n",
       "4                       Bellandur          Bellandur  "
      ]
     },
     "execution_count": 2,
     "metadata": {},
     "output_type": "execute_result"
    }
   ],
   "source": [
    "# Load Dataset\n",
    "\n",
    "df= pd.read_csv(r'zomato.csv')\n",
    "df.head()"
   ]
  },
  {
   "cell_type": "code",
   "execution_count": 3,
   "id": "bcc6b78f-1237-44ac-a7e2-5900154c7000",
   "metadata": {},
   "outputs": [],
   "source": [
    "# drop these two columns because these two columns are not usefull\n",
    "\n",
    "df.drop(['Unnamed: 0.1', 'Unnamed: 0'],axis=1,inplace=True)"
   ]
  },
  {
   "cell_type": "markdown",
   "id": "4f87c883-7983-4673-9d42-863e668a90fa",
   "metadata": {},
   "source": [
    "## Column Descriptions:"
   ]
  },
  {
   "cell_type": "markdown",
   "id": "1d919b9e-ce0c-451e-930c-c83384987641",
   "metadata": {},
   "source": [
    "Column Descriptions:\n",
    "\n",
    "restaurant name: Name of the restaurant.\n",
    "\n",
    "restaurant type\t: Type/category of restaurant.\n",
    "\n",
    "rate (out of 5): Average customer rating out of 5.\n",
    "\n",
    "num of ratings:\tNumber of user ratings/reviews.\n",
    "\n",
    "avg cost (two people): Average cost for two people in currency.\n",
    "\n",
    "online_order: Whether the restaurant accepts online orders.\n",
    "\n",
    "table booking: Whether the restaurant allows table booking.\n",
    "\n",
    "cuisines type: Types of cuisines served (can be multiple).\n",
    "\n",
    "area: Local area or locality of the restaurant.\t\n",
    "\n",
    "local address: Full address or description of location."
   ]
  },
  {
   "cell_type": "markdown",
   "id": "bfc9687b-9b95-47b6-9c9e-3f726c42087d",
   "metadata": {},
   "source": [
    "## Data Understanding"
   ]
  },
  {
   "cell_type": "code",
   "execution_count": 4,
   "id": "4303ec88-26de-4849-be15-28c648410b37",
   "metadata": {},
   "outputs": [
    {
     "name": "stdout",
     "output_type": "stream",
     "text": [
      "No. of Rows: 7105\n",
      "No. of Columns: 10\n"
     ]
    }
   ],
   "source": [
    "# Check the shape of the data (rows and columns)\n",
    "\n",
    "print ('No. of Rows:',df.shape[0])\n",
    "print('No. of Columns:', df.shape[1])"
   ]
  },
  {
   "cell_type": "markdown",
   "id": "7293b872-dace-43a7-b818-5d350ac9095a",
   "metadata": {},
   "source": [
    "## Handle Duplicates"
   ]
  },
  {
   "cell_type": "code",
   "execution_count": 5,
   "id": "1213b251-fd4e-4d51-88a0-aa7a948884ae",
   "metadata": {},
   "outputs": [
    {
     "data": {
      "text/plain": [
       "0"
      ]
     },
     "execution_count": 5,
     "metadata": {},
     "output_type": "execute_result"
    }
   ],
   "source": [
    "# Check Duplicates\n",
    "df.duplicated().sum()"
   ]
  },
  {
   "cell_type": "code",
   "execution_count": null,
   "id": "910330b4-ba1c-4179-b003-53acd3f15bf1",
   "metadata": {},
   "outputs": [],
   "source": []
  },
  {
   "cell_type": "code",
   "execution_count": 6,
   "id": "d5f1103f-87c9-412a-adf1-e4cb26fea997",
   "metadata": {},
   "outputs": [
    {
     "name": "stdout",
     "output_type": "stream",
     "text": [
      "<class 'pandas.core.frame.DataFrame'>\n",
      "RangeIndex: 7105 entries, 0 to 7104\n",
      "Data columns (total 10 columns):\n",
      " #   Column                 Non-Null Count  Dtype  \n",
      "---  ------                 --------------  -----  \n",
      " 0   restaurant name        7105 non-null   object \n",
      " 1   restaurant type        7105 non-null   object \n",
      " 2   rate (out of 5)        7037 non-null   float64\n",
      " 3   num of ratings         7105 non-null   int64  \n",
      " 4   avg cost (two people)  7048 non-null   float64\n",
      " 5   online_order           7105 non-null   object \n",
      " 6   table booking          7105 non-null   object \n",
      " 7   cuisines type          7105 non-null   object \n",
      " 8   area                   7105 non-null   object \n",
      " 9   local address          7105 non-null   object \n",
      "dtypes: float64(2), int64(1), object(7)\n",
      "memory usage: 555.2+ KB\n"
     ]
    }
   ],
   "source": [
    "# Check info of the dataset\n",
    "\n",
    "df.info()"
   ]
  },
  {
   "cell_type": "code",
   "execution_count": null,
   "id": "98b88299-b4dc-49e2-a67b-a80137e6cba6",
   "metadata": {},
   "outputs": [],
   "source": []
  },
  {
   "cell_type": "markdown",
   "id": "04e7a4ad-4ce1-4947-a96e-12c15541b080",
   "metadata": {},
   "source": [
    "## Handle Missing Values"
   ]
  },
  {
   "cell_type": "code",
   "execution_count": 7,
   "id": "c8128e1d-8def-41e5-a441-126f50c00685",
   "metadata": {
    "scrolled": true
   },
   "outputs": [
    {
     "data": {
      "text/plain": [
       "restaurant name          0.000000\n",
       "restaurant type          0.000000\n",
       "rate (out of 5)          0.957072\n",
       "num of ratings           0.000000\n",
       "avg cost (two people)    0.802252\n",
       "online_order             0.000000\n",
       "table booking            0.000000\n",
       "cuisines type            0.000000\n",
       "area                     0.000000\n",
       "local address            0.000000\n",
       "dtype: float64"
      ]
     },
     "execution_count": 7,
     "metadata": {},
     "output_type": "execute_result"
    }
   ],
   "source": [
    "# Check null values\n",
    "\n",
    "df.isnull().sum()/df.shape[0]*100"
   ]
  },
  {
   "cell_type": "code",
   "execution_count": 8,
   "id": "30a725eb-8bf2-42c2-88b7-be86cdee3d2c",
   "metadata": {},
   "outputs": [],
   "source": [
    "# # Remove the missing values\n",
    "\n",
    "df.dropna(inplace=True)"
   ]
  },
  {
   "cell_type": "markdown",
   "id": "ed8791f4-40b9-4618-a97f-56ad204b66ae",
   "metadata": {},
   "source": [
    "Justification for Dropping:\n",
    "\n",
    "The percentage of missing data is very low (under 1% is generally considered safe to drop).\n",
    "\n",
    "Imputing values (e.g., filling with mean or median) might distort the true averages, especially for ratings."
   ]
  },
  {
   "cell_type": "code",
   "execution_count": null,
   "id": "2c4f3e19-aae1-4f6b-92d4-a3bdcceb0db2",
   "metadata": {},
   "outputs": [],
   "source": []
  },
  {
   "cell_type": "code",
   "execution_count": 9,
   "id": "bed41c5a-1549-4c42-8eae-0adb95f097e5",
   "metadata": {},
   "outputs": [
    {
     "data": {
      "text/plain": [
       "restaurant name          0.0\n",
       "restaurant type          0.0\n",
       "rate (out of 5)          0.0\n",
       "num of ratings           0.0\n",
       "avg cost (two people)    0.0\n",
       "online_order             0.0\n",
       "table booking            0.0\n",
       "cuisines type            0.0\n",
       "area                     0.0\n",
       "local address            0.0\n",
       "dtype: float64"
      ]
     },
     "execution_count": 9,
     "metadata": {},
     "output_type": "execute_result"
    }
   ],
   "source": [
    "# after droped the null values\n",
    "df.isnull().sum()/df.shape[0]*100"
   ]
  },
  {
   "cell_type": "code",
   "execution_count": null,
   "id": "e5519576-05b2-4cbf-8f07-aa3a85baad9d",
   "metadata": {},
   "outputs": [],
   "source": []
  },
  {
   "cell_type": "markdown",
   "id": "b2b30bbb-d5c4-4206-9668-0cf5ad2ef836",
   "metadata": {},
   "source": [
    "##  Save Cleaned Dataset to CSV"
   ]
  },
  {
   "cell_type": "code",
   "execution_count": 23,
   "id": "45a0b8b7-6e34-4609-a3e0-9ec2ab6b78cd",
   "metadata": {},
   "outputs": [],
   "source": [
    "df.to_csv('zomato_cleaned.csv', index=False)\n"
   ]
  }
 ],
 "metadata": {
  "kernelspec": {
   "display_name": "Python 3 (ipykernel)",
   "language": "python",
   "name": "python3"
  },
  "language_info": {
   "codemirror_mode": {
    "name": "ipython",
    "version": 3
   },
   "file_extension": ".py",
   "mimetype": "text/x-python",
   "name": "python",
   "nbconvert_exporter": "python",
   "pygments_lexer": "ipython3",
   "version": "3.11.7"
  }
 },
 "nbformat": 4,
 "nbformat_minor": 5
}
